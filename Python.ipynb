{
 "cells": [
  {
   "cell_type": "markdown",
   "id": "a2756e6a-7be3-4aaa-97f6-6048c22e6505",
   "metadata": {},
   "source": [
    "## Python Basics"
   ]
  },
  {
   "cell_type": "markdown",
   "id": "882d453b-6016-4573-8d07-4c187b6f9928",
   "metadata": {},
   "source": [
    "- Item 1\n",
    "    - Sub-Item 1\n",
    "- Item 2\n",
    "\n",
    "1. _Item A_\n",
    "2. __Item B__"
   ]
  },
  {
   "cell_type": "code",
   "execution_count": 5,
   "id": "23508275-88fa-4678-9f63-e385640c2f4b",
   "metadata": {},
   "outputs": [],
   "source": [
    "# These were written in a markdown cell\n",
    "# You can write notes in code cells using #"
   ]
  },
  {
   "cell_type": "markdown",
   "id": "8df3c352-5691-463d-850e-4d715f01e218",
   "metadata": {},
   "source": [
    "## Variables"
   ]
  },
  {
   "cell_type": "code",
   "execution_count": 1,
   "id": "6185a687-b47e-417c-b4de-55a9db7bf93a",
   "metadata": {},
   "outputs": [
    {
     "name": "stdout",
     "output_type": "stream",
     "text": [
      "Tesla\n"
     ]
    }
   ],
   "source": [
    "car1 = 'Tesla'\n",
    "car2 = 'Honda'\n",
    "print(car1)"
   ]
  },
  {
   "cell_type": "code",
   "execution_count": 2,
   "id": "f3e0103e-c0e8-4ea6-bb15-e17af326c486",
   "metadata": {},
   "outputs": [
    {
     "name": "stdout",
     "output_type": "stream",
     "text": [
      "My car is a Honda but I want a Tesla\n"
     ]
    }
   ],
   "source": [
    "print('My car is a', car2, 'but I want a', car1)"
   ]
  },
  {
   "cell_type": "code",
   "execution_count": 3,
   "id": "46a9b4d0-a7c8-4e84-a789-89841b3815bf",
   "metadata": {},
   "outputs": [
    {
     "name": "stdout",
     "output_type": "stream",
     "text": [
      "Right now I am 23 but in 7 years I will be 30\n"
     ]
    }
   ],
   "source": [
    "age1 = 23\n",
    "age2 = age1 + 7\n",
    "print('Right now I am', age1, 'but in 7 years I will be', age2)"
   ]
  },
  {
   "cell_type": "code",
   "execution_count": 4,
   "id": "f5b9d939-4435-498e-9c5b-54aaca32e347",
   "metadata": {},
   "outputs": [
    {
     "name": "stdout",
     "output_type": "stream",
     "text": [
      "6\n"
     ]
    }
   ],
   "source": [
    "calculation1 = 1 * 2 * 3\n",
    "print(calculation1)"
   ]
  },
  {
   "cell_type": "markdown",
   "id": "dbdf12a7-6db4-4863-9cbf-ae7c41730b14",
   "metadata": {},
   "source": [
    "## Datatypes"
   ]
  },
  {
   "cell_type": "code",
   "execution_count": 6,
   "id": "922cfdca-123a-46ba-9e2e-92ce36fb2aa0",
   "metadata": {},
   "outputs": [],
   "source": [
    "integer1 = 1\n",
    "string1 = '1'\n",
    "float1 = 1.0"
   ]
  },
  {
   "cell_type": "code",
   "execution_count": 8,
   "id": "bee0a1d3-f9d4-464f-920b-7a1dd28b9b8a",
   "metadata": {},
   "outputs": [
    {
     "name": "stdout",
     "output_type": "stream",
     "text": [
      "<class 'int'>\n"
     ]
    }
   ],
   "source": [
    "print(type(integer1))"
   ]
  },
  {
   "cell_type": "code",
   "execution_count": 9,
   "id": "8ce20827-8045-4db2-8ced-382d3511bd4b",
   "metadata": {},
   "outputs": [
    {
     "name": "stdout",
     "output_type": "stream",
     "text": [
      "<class 'str'>\n"
     ]
    }
   ],
   "source": [
    "print(type(string1))"
   ]
  },
  {
   "cell_type": "code",
   "execution_count": 10,
   "id": "27b10fc3-b206-4ad8-81af-c39d6274963d",
   "metadata": {},
   "outputs": [
    {
     "name": "stdout",
     "output_type": "stream",
     "text": [
      "<class 'float'>\n"
     ]
    }
   ],
   "source": [
    "print(type(float1))"
   ]
  },
  {
   "cell_type": "code",
   "execution_count": 11,
   "id": "de840904-a8c4-42a3-ba28-f003e810a4dd",
   "metadata": {},
   "outputs": [
    {
     "name": "stdout",
     "output_type": "stream",
     "text": [
      "<class 'int'> <class 'str'> <class 'float'>\n"
     ]
    }
   ],
   "source": [
    "print(type(integer1), type(string1), type(float1))"
   ]
  },
  {
   "cell_type": "code",
   "execution_count": 12,
   "id": "25b40dc8-eb03-42bc-8332-88a970c7cc83",
   "metadata": {},
   "outputs": [
    {
     "name": "stdout",
     "output_type": "stream",
     "text": [
      "fourfourfourfour\n"
     ]
    }
   ],
   "source": [
    "number1 = 4\n",
    "number2 = 'four'\n",
    "print(number1 * number2)"
   ]
  },
  {
   "cell_type": "code",
   "execution_count": 14,
   "id": "af9d9db2-ab69-405e-b3a1-cf58d239e35c",
   "metadata": {},
   "outputs": [
    {
     "name": "stdout",
     "output_type": "stream",
     "text": [
      "John Doe\n"
     ]
    }
   ],
   "source": [
    "myname = 'John' + ' ' + 'Doe'\n",
    "print(myname)"
   ]
  },
  {
   "cell_type": "markdown",
   "id": "2bb8d382-778e-4f9e-a971-6525e87cee34",
   "metadata": {},
   "source": [
    "## Functions"
   ]
  },
  {
   "cell_type": "code",
   "execution_count": 15,
   "id": "9213dae8-210f-4660-8d76-1e6d536458c5",
   "metadata": {},
   "outputs": [
    {
     "name": "stdout",
     "output_type": "stream",
     "text": [
      "3\n",
      "1\n"
     ]
    }
   ],
   "source": [
    "print(max(1,2,3))\n",
    "print(min(1,2,3))"
   ]
  },
  {
   "cell_type": "code",
   "execution_count": 18,
   "id": "d9d7109e-296b-4a4a-bf79-cc12c15136ad",
   "metadata": {},
   "outputs": [
    {
     "data": {
      "text/plain": [
       "1.1"
      ]
     },
     "execution_count": 18,
     "metadata": {},
     "output_type": "execute_result"
    }
   ],
   "source": [
    "round(1.12345, 1)"
   ]
  },
  {
   "cell_type": "code",
   "execution_count": 20,
   "id": "636cf433-90bf-42c1-a9e9-4834a72cdfca",
   "metadata": {},
   "outputs": [
    {
     "data": {
      "text/plain": [
       "1.12345"
      ]
     },
     "execution_count": 20,
     "metadata": {},
     "output_type": "execute_result"
    }
   ],
   "source": [
    "round(1.12345, 5)"
   ]
  },
  {
   "cell_type": "code",
   "execution_count": 22,
   "id": "a70d8a32-0516-4958-9935-344234d6701c",
   "metadata": {},
   "outputs": [
    {
     "name": "stdout",
     "output_type": "stream",
     "text": [
      "H\n"
     ]
    }
   ],
   "source": [
    "element1 = 'Hydrogen'\n",
    "print(element1[0])"
   ]
  },
  {
   "cell_type": "code",
   "execution_count": 23,
   "id": "220042ca-cf02-4730-82af-1cc778caf2f8",
   "metadata": {},
   "outputs": [
    {
     "name": "stdout",
     "output_type": "stream",
     "text": [
      "Hyd\n"
     ]
    }
   ],
   "source": [
    "print(element1[0:3])"
   ]
  },
  {
   "cell_type": "code",
   "execution_count": 24,
   "id": "ac2d7331-da82-4719-8802-c400f4da766b",
   "metadata": {},
   "outputs": [
    {
     "name": "stdout",
     "output_type": "stream",
     "text": [
      "8\n"
     ]
    }
   ],
   "source": [
    "print(len(element1))"
   ]
  },
  {
   "cell_type": "code",
   "execution_count": 25,
   "id": "2f62eb87-1439-4154-8206-148658c5ebc4",
   "metadata": {},
   "outputs": [
    {
     "name": "stdout",
     "output_type": "stream",
     "text": [
      "10\n"
     ]
    }
   ],
   "source": [
    "print(len(str(1234567890)))"
   ]
  },
  {
   "cell_type": "markdown",
   "id": "844277e4-8043-4173-b2d8-df1cf5387772",
   "metadata": {},
   "source": [
    "## Libraries"
   ]
  },
  {
   "cell_type": "markdown",
   "id": "cec13318-e1a8-4161-9f09-01aef1e432e0",
   "metadata": {},
   "source": [
    "### The Python Standard Library can be found at: https://docs.python.org/3/library/"
   ]
  },
  {
   "cell_type": "code",
   "execution_count": 29,
   "id": "52e6af78-1685-4c3d-a615-9625d5a46480",
   "metadata": {},
   "outputs": [],
   "source": [
    "import math"
   ]
  },
  {
   "cell_type": "code",
   "execution_count": 30,
   "id": "1f211e8d-bd86-4440-b8b5-a68411fc750a",
   "metadata": {},
   "outputs": [
    {
     "name": "stdout",
     "output_type": "stream",
     "text": [
      "cos(pi) is -1.0\n"
     ]
    }
   ],
   "source": [
    "from math import cos, pi\n",
    "print('cos(pi) is', cos(pi))"
   ]
  },
  {
   "cell_type": "code",
   "execution_count": 31,
   "id": "f24b1cca-1569-47b4-a913-82a5d74a42d8",
   "metadata": {},
   "outputs": [
    {
     "name": "stdout",
     "output_type": "stream",
     "text": [
      "cos(pi) is -1.0\n"
     ]
    }
   ],
   "source": [
    "import math as m\n",
    "print('cos(pi) is', m.cos(m.pi))"
   ]
  },
  {
   "cell_type": "code",
   "execution_count": 32,
   "id": "b618ea3c-a378-489a-9a64-580866c6a0c9",
   "metadata": {},
   "outputs": [],
   "source": [
    "import numpy as np"
   ]
  },
  {
   "cell_type": "code",
   "execution_count": 35,
   "id": "80b19eb6-1535-4fb5-bea0-ffdffadae067",
   "metadata": {},
   "outputs": [
    {
     "data": {
      "text/plain": [
       "array([[0., 0., 1., ..., 3., 0., 0.],\n",
       "       [0., 1., 2., ..., 1., 0., 1.],\n",
       "       [0., 1., 1., ..., 2., 1., 1.],\n",
       "       ...,\n",
       "       [0., 1., 1., ..., 1., 1., 1.],\n",
       "       [0., 0., 0., ..., 0., 2., 0.],\n",
       "       [0., 0., 1., ..., 1., 1., 0.]])"
      ]
     },
     "execution_count": 35,
     "metadata": {},
     "output_type": "execute_result"
    }
   ],
   "source": [
    "np.loadtxt(fname = 'inflammation-01.csv', delimiter = ',')"
   ]
  },
  {
   "cell_type": "code",
   "execution_count": 36,
   "id": "3445edf6-e8c1-4040-a107-c3b2ba6f41dd",
   "metadata": {},
   "outputs": [],
   "source": [
    "data1 = np.loadtxt(fname = 'inflammation-01.csv', delimiter = ',')"
   ]
  },
  {
   "cell_type": "code",
   "execution_count": 37,
   "id": "21ee9de4-9f35-412f-b534-4c90fa625674",
   "metadata": {},
   "outputs": [
    {
     "name": "stdout",
     "output_type": "stream",
     "text": [
      "[[0. 0. 1. ... 3. 0. 0.]\n",
      " [0. 1. 2. ... 1. 0. 1.]\n",
      " [0. 1. 1. ... 2. 1. 1.]\n",
      " ...\n",
      " [0. 1. 1. ... 1. 1. 1.]\n",
      " [0. 0. 0. ... 0. 2. 0.]\n",
      " [0. 0. 1. ... 1. 1. 0.]]\n"
     ]
    }
   ],
   "source": [
    "print(data1)"
   ]
  },
  {
   "cell_type": "code",
   "execution_count": 38,
   "id": "41cac267-f83e-4c91-89f1-c7a60e7c7402",
   "metadata": {},
   "outputs": [
    {
     "name": "stdout",
     "output_type": "stream",
     "text": [
      "<class 'numpy.ndarray'>\n"
     ]
    }
   ],
   "source": [
    "print(type(data1))"
   ]
  },
  {
   "cell_type": "code",
   "execution_count": 41,
   "id": "568a591a-3b55-4b86-b0f1-c6a290e8735f",
   "metadata": {},
   "outputs": [
    {
     "name": "stdout",
     "output_type": "stream",
     "text": [
      "20.0\n"
     ]
    }
   ],
   "source": [
    "print(np.max(data1))"
   ]
  },
  {
   "cell_type": "code",
   "execution_count": 42,
   "id": "eb6aabdd-a714-4222-b3f4-6fc3a283be86",
   "metadata": {},
   "outputs": [
    {
     "name": "stdout",
     "output_type": "stream",
     "text": [
      "0.0\n"
     ]
    }
   ],
   "source": [
    "print(np.min(data1))"
   ]
  },
  {
   "cell_type": "code",
   "execution_count": 43,
   "id": "28e49e7c-2a6f-4ea4-9658-1f6addff270d",
   "metadata": {},
   "outputs": [
    {
     "name": "stdout",
     "output_type": "stream",
     "text": [
      "6.14875\n"
     ]
    }
   ],
   "source": [
    "print(np.mean(data1))"
   ]
  },
  {
   "cell_type": "code",
   "execution_count": 44,
   "id": "eafc727e-9b62-4897-bd49-7b27e5acecb2",
   "metadata": {},
   "outputs": [
    {
     "name": "stdout",
     "output_type": "stream",
     "text": [
      "4.613833197118566\n"
     ]
    }
   ],
   "source": [
    "print(np.std(data1))"
   ]
  },
  {
   "cell_type": "code",
   "execution_count": 45,
   "id": "095c45ac-f9e5-4f25-b22b-a12435552b65",
   "metadata": {},
   "outputs": [],
   "source": [
    "import pandas as pd"
   ]
  },
  {
   "cell_type": "code",
   "execution_count": 46,
   "id": "72825675-08fa-47f7-a337-7cce889b4d28",
   "metadata": {},
   "outputs": [
    {
     "name": "stdout",
     "output_type": "stream",
     "text": [
      "       country  gdpPercap_1952  gdpPercap_1957  gdpPercap_1962  \\\n",
      "0    Australia     10039.59564     10949.64959     12217.22686   \n",
      "1  New Zealand     10556.57566     12247.39532     13175.67800   \n",
      "\n",
      "   gdpPercap_1967  gdpPercap_1972  gdpPercap_1977  gdpPercap_1982  \\\n",
      "0     14526.12465     16788.62948     18334.19751     19477.00928   \n",
      "1     14463.91893     16046.03728     16233.71770     17632.41040   \n",
      "\n",
      "   gdpPercap_1987  gdpPercap_1992  gdpPercap_1997  gdpPercap_2002  \\\n",
      "0     21888.88903     23424.76683     26997.93657     30687.75473   \n",
      "1     19007.19129     18363.32494     21050.41377     23189.80135   \n",
      "\n",
      "   gdpPercap_2007  \n",
      "0     34435.36744  \n",
      "1     25185.00911  \n"
     ]
    }
   ],
   "source": [
    "data2 = pd.read_csv('gapminder_gdp_oceania.csv')\n",
    "print(data2)"
   ]
  },
  {
   "cell_type": "code",
   "execution_count": 47,
   "id": "41b39d4a-bfdd-452a-a8c2-51bbff20fb1f",
   "metadata": {},
   "outputs": [
    {
     "name": "stdout",
     "output_type": "stream",
     "text": [
      "             gdpPercap_1952  gdpPercap_1957  gdpPercap_1962  gdpPercap_1967  \\\n",
      "country                                                                       \n",
      "Australia       10039.59564     10949.64959     12217.22686     14526.12465   \n",
      "New Zealand     10556.57566     12247.39532     13175.67800     14463.91893   \n",
      "\n",
      "             gdpPercap_1972  gdpPercap_1977  gdpPercap_1982  gdpPercap_1987  \\\n",
      "country                                                                       \n",
      "Australia       16788.62948     18334.19751     19477.00928     21888.88903   \n",
      "New Zealand     16046.03728     16233.71770     17632.41040     19007.19129   \n",
      "\n",
      "             gdpPercap_1992  gdpPercap_1997  gdpPercap_2002  gdpPercap_2007  \n",
      "country                                                                      \n",
      "Australia       23424.76683     26997.93657     30687.75473     34435.36744  \n",
      "New Zealand     18363.32494     21050.41377     23189.80135     25185.00911  \n"
     ]
    }
   ],
   "source": [
    "data2 = pd.read_csv('gapminder_gdp_oceania.csv', index_col = 'country')\n",
    "print(data2)"
   ]
  },
  {
   "cell_type": "code",
   "execution_count": 49,
   "id": "f7ace2c4-3192-48f9-88ba-93d278c5ac52",
   "metadata": {},
   "outputs": [
    {
     "name": "stdout",
     "output_type": "stream",
     "text": [
      "<class 'pandas.core.frame.DataFrame'>\n",
      "Index: 2 entries, Australia to New Zealand\n",
      "Data columns (total 12 columns):\n",
      " #   Column          Non-Null Count  Dtype  \n",
      "---  ------          --------------  -----  \n",
      " 0   gdpPercap_1952  2 non-null      float64\n",
      " 1   gdpPercap_1957  2 non-null      float64\n",
      " 2   gdpPercap_1962  2 non-null      float64\n",
      " 3   gdpPercap_1967  2 non-null      float64\n",
      " 4   gdpPercap_1972  2 non-null      float64\n",
      " 5   gdpPercap_1977  2 non-null      float64\n",
      " 6   gdpPercap_1982  2 non-null      float64\n",
      " 7   gdpPercap_1987  2 non-null      float64\n",
      " 8   gdpPercap_1992  2 non-null      float64\n",
      " 9   gdpPercap_1997  2 non-null      float64\n",
      " 10  gdpPercap_2002  2 non-null      float64\n",
      " 11  gdpPercap_2007  2 non-null      float64\n",
      "dtypes: float64(12)\n",
      "memory usage: 208.0+ bytes\n"
     ]
    }
   ],
   "source": [
    "data2.info()"
   ]
  },
  {
   "cell_type": "code",
   "execution_count": 50,
   "id": "431add54-3530-4266-860b-5b1effb2e707",
   "metadata": {},
   "outputs": [
    {
     "name": "stdout",
     "output_type": "stream",
     "text": [
      "Index(['gdpPercap_1952', 'gdpPercap_1957', 'gdpPercap_1962', 'gdpPercap_1967',\n",
      "       'gdpPercap_1972', 'gdpPercap_1977', 'gdpPercap_1982', 'gdpPercap_1987',\n",
      "       'gdpPercap_1992', 'gdpPercap_1997', 'gdpPercap_2002', 'gdpPercap_2007'],\n",
      "      dtype='object')\n"
     ]
    }
   ],
   "source": [
    "print(data2.columns)"
   ]
  },
  {
   "cell_type": "code",
   "execution_count": 52,
   "id": "db321b1c-8db7-4723-b847-699a0f3c2a41",
   "metadata": {},
   "outputs": [
    {
     "name": "stdout",
     "output_type": "stream",
     "text": [
      "country           Australia  New Zealand\n",
      "gdpPercap_1952  10039.59564  10556.57566\n",
      "gdpPercap_1957  10949.64959  12247.39532\n",
      "gdpPercap_1962  12217.22686  13175.67800\n",
      "gdpPercap_1967  14526.12465  14463.91893\n",
      "gdpPercap_1972  16788.62948  16046.03728\n",
      "gdpPercap_1977  18334.19751  16233.71770\n",
      "gdpPercap_1982  19477.00928  17632.41040\n",
      "gdpPercap_1987  21888.88903  19007.19129\n",
      "gdpPercap_1992  23424.76683  18363.32494\n",
      "gdpPercap_1997  26997.93657  21050.41377\n",
      "gdpPercap_2002  30687.75473  23189.80135\n",
      "gdpPercap_2007  34435.36744  25185.00911\n"
     ]
    }
   ],
   "source": [
    "print(data2.T)"
   ]
  },
  {
   "cell_type": "code",
   "execution_count": 54,
   "id": "cf570c54-338d-4bb4-afe2-c6fb1aa2251e",
   "metadata": {},
   "outputs": [
    {
     "name": "stdout",
     "output_type": "stream",
     "text": [
      "       gdpPercap_1952  gdpPercap_1957  gdpPercap_1962  gdpPercap_1967  \\\n",
      "count        2.000000        2.000000        2.000000        2.000000   \n",
      "mean     10298.085650    11598.522455    12696.452430    14495.021790   \n",
      "std        365.560078      917.644806      677.727301       43.986086   \n",
      "min      10039.595640    10949.649590    12217.226860    14463.918930   \n",
      "25%      10168.840645    11274.086022    12456.839645    14479.470360   \n",
      "50%      10298.085650    11598.522455    12696.452430    14495.021790   \n",
      "75%      10427.330655    11922.958888    12936.065215    14510.573220   \n",
      "max      10556.575660    12247.395320    13175.678000    14526.124650   \n",
      "\n",
      "       gdpPercap_1972  gdpPercap_1977  gdpPercap_1982  gdpPercap_1987  \\\n",
      "count         2.00000        2.000000        2.000000        2.000000   \n",
      "mean      16417.33338    17283.957605    18554.709840    20448.040160   \n",
      "std         525.09198     1485.263517     1304.328377     2037.668013   \n",
      "min       16046.03728    16233.717700    17632.410400    19007.191290   \n",
      "25%       16231.68533    16758.837652    18093.560120    19727.615725   \n",
      "50%       16417.33338    17283.957605    18554.709840    20448.040160   \n",
      "75%       16602.98143    17809.077558    19015.859560    21168.464595   \n",
      "max       16788.62948    18334.197510    19477.009280    21888.889030   \n",
      "\n",
      "       gdpPercap_1992  gdpPercap_1997  gdpPercap_2002  gdpPercap_2007  \n",
      "count        2.000000        2.000000        2.000000        2.000000  \n",
      "mean     20894.045885    24024.175170    26938.778040    29810.188275  \n",
      "std       3578.979883     4205.533703     5301.853680     6540.991104  \n",
      "min      18363.324940    21050.413770    23189.801350    25185.009110  \n",
      "25%      19628.685412    22537.294470    25064.289695    27497.598692  \n",
      "50%      20894.045885    24024.175170    26938.778040    29810.188275  \n",
      "75%      22159.406358    25511.055870    28813.266385    32122.777858  \n",
      "max      23424.766830    26997.936570    30687.754730    34435.367440  \n"
     ]
    }
   ],
   "source": [
    "print(data2.describe())"
   ]
  },
  {
   "cell_type": "code",
   "execution_count": 55,
   "id": "29815396-1a4d-4881-b955-813ab1aee2ca",
   "metadata": {},
   "outputs": [],
   "source": [
    "# You can use to_csv to write a new csv file based on changes you've made to a dataframe\n",
    "# The command looks like: data2.to_csv('MyNewDataFile.csv')"
   ]
  },
  {
   "cell_type": "code",
   "execution_count": 61,
   "id": "8ef6e02e-8afa-4b3d-a3aa-b58fa4008db2",
   "metadata": {},
   "outputs": [
    {
     "name": "stdout",
     "output_type": "stream",
     "text": [
      "                        gdpPercap_1952  gdpPercap_1957  gdpPercap_1962  \\\n",
      "country                                                                  \n",
      "Albania                    1601.056136     1942.284244     2312.888958   \n",
      "Austria                    6137.076492     8842.598030    10750.721110   \n",
      "Belgium                    8343.105127     9714.960623    10991.206760   \n",
      "Bosnia and Herzegovina      973.533195     1353.989176     1709.683679   \n",
      "Bulgaria                   2444.286648     3008.670727     4254.337839   \n",
      "Croatia                    3119.236520     4338.231617     5477.890018   \n",
      "Czech Republic             6876.140250     8256.343918    10136.867130   \n",
      "Denmark                    9692.385245    11099.659350    13583.313510   \n",
      "Finland                    6424.519071     7545.415386     9371.842561   \n",
      "France                     7029.809327     8662.834898    10560.485530   \n",
      "Germany                    7144.114393    10187.826650    12902.462910   \n",
      "Greece                     3530.690067     4916.299889     6017.190733   \n",
      "Hungary                    5263.673816     6040.180011     7550.359877   \n",
      "Iceland                    7267.688428     9244.001412    10350.159060   \n",
      "Ireland                    5210.280328     5599.077872     6631.597314   \n",
      "Italy                      4931.404155     6248.656232     8243.582340   \n",
      "Montenegro                 2647.585601     3682.259903     4649.593785   \n",
      "Netherlands                8941.571858    11276.193440    12790.849560   \n",
      "Norway                    10095.421720    11653.973040    13450.401510   \n",
      "Poland                     4029.329699     4734.253019     5338.752143   \n",
      "Portugal                   3068.319867     3774.571743     4727.954889   \n",
      "Romania                    3144.613186     3943.370225     4734.997586   \n",
      "Serbia                     3581.459448     4981.090891     6289.629157   \n",
      "Slovak Republic            5074.659104     6093.262980     7481.107598   \n",
      "Slovenia                   4215.041741     5862.276629     7402.303395   \n",
      "Spain                      3834.034742     4564.802410     5693.843879   \n",
      "Sweden                     8527.844662     9911.878226    12329.441920   \n",
      "Switzerland               14734.232750    17909.489730    20431.092700   \n",
      "Turkey                     1969.100980     2218.754257     2322.869908   \n",
      "United Kingdom             9979.508487    11283.177950    12477.177070   \n",
      "\n",
      "                        gdpPercap_1967  gdpPercap_1972  gdpPercap_1977  \\\n",
      "country                                                                  \n",
      "Albania                    2760.196931     3313.422188     3533.003910   \n",
      "Austria                   12834.602400    16661.625600    19749.422300   \n",
      "Belgium                   13149.041190    16672.143560    19117.974480   \n",
      "Bosnia and Herzegovina     2172.352423     2860.169750     3528.481305   \n",
      "Bulgaria                   5577.002800     6597.494398     7612.240438   \n",
      "Croatia                    6960.297861     9164.090127    11305.385170   \n",
      "Czech Republic            11399.444890    13108.453600    14800.160620   \n",
      "Denmark                   15937.211230    18866.207210    20422.901500   \n",
      "Finland                   10921.636260    14358.875900    15605.422830   \n",
      "France                    12999.917660    16107.191710    18292.635140   \n",
      "Germany                   14745.625610    18016.180270    20512.921230   \n",
      "Greece                     8513.097016    12724.829570    14195.524280   \n",
      "Hungary                    9326.644670    10168.656110    11674.837370   \n",
      "Iceland                   13319.895680    15798.063620    19654.962470   \n",
      "Ireland                    7655.568963     9530.772896    11150.981130   \n",
      "Italy                     10022.401310    12269.273780    14255.984750   \n",
      "Montenegro                 5907.850937     7778.414017     9595.929905   \n",
      "Netherlands               15363.251360    18794.745670    21209.059200   \n",
      "Norway                    16361.876470    18965.055510    23311.349390   \n",
      "Poland                     6557.152776     8006.506993     9508.141454   \n",
      "Portugal                   6361.517993     9022.247417    10172.485720   \n",
      "Romania                    6470.866545     8011.414402     9356.397240   \n",
      "Serbia                     7991.707066    10522.067490    12980.669560   \n",
      "Slovak Republic            8412.902397     9674.167626    10922.664040   \n",
      "Slovenia                   9405.489397    12383.486200    15277.030170   \n",
      "Spain                      7993.512294    10638.751310    13236.921170   \n",
      "Sweden                    15258.296970    17832.024640    18855.725210   \n",
      "Switzerland               22966.144320    27195.113040    26982.290520   \n",
      "Turkey                     2826.356387     3450.696380     4269.122326   \n",
      "United Kingdom            14142.850890    15895.116410    17428.748460   \n",
      "\n",
      "                        gdpPercap_1982  gdpPercap_1987  gdpPercap_1992  \\\n",
      "country                                                                  \n",
      "Albania                    3630.880722     3738.932735     2497.437901   \n",
      "Austria                   21597.083620    23687.826070    27042.018680   \n",
      "Belgium                   20979.845890    22525.563080    25575.570690   \n",
      "Bosnia and Herzegovina     4126.613157     4314.114757     2546.781445   \n",
      "Bulgaria                   8224.191647     8239.854824     6302.623438   \n",
      "Croatia                   13221.821840    13822.583940     8447.794873   \n",
      "Czech Republic            15377.228550    16310.443400    14297.021220   \n",
      "Denmark                   21688.040480    25116.175810    26406.739850   \n",
      "Finland                   18533.157610    21141.012230    20647.164990   \n",
      "France                    20293.897460    22066.442140    24703.796150   \n",
      "Germany                   22031.532740    24639.185660    26505.303170   \n",
      "Greece                    15268.420890    16120.528390    17541.496340   \n",
      "Hungary                   12545.990660    12986.479980    10535.628550   \n",
      "Iceland                   23269.607500    26923.206280    25144.392010   \n",
      "Ireland                   12618.321410    13872.866520    17558.815550   \n",
      "Italy                     16537.483500    19207.234820    22013.644860   \n",
      "Montenegro                11222.587620    11732.510170     7003.339037   \n",
      "Netherlands               21399.460460    23651.323610    26790.949610   \n",
      "Norway                    26298.635310    31540.974800    33965.661150   \n",
      "Poland                     8451.531004     9082.351172     7738.881247   \n",
      "Portugal                  11753.842910    13039.308760    16207.266630   \n",
      "Romania                    9605.314053     9696.273295     6598.409903   \n",
      "Serbia                    15181.092700    15870.878510     9325.068238   \n",
      "Slovak Republic           11348.545850    12037.267580     9498.467723   \n",
      "Slovenia                  17866.721750    18678.534920    14214.716810   \n",
      "Spain                     13926.169970    15764.983130    18603.064520   \n",
      "Sweden                    20667.381250    23586.929270    23880.016830   \n",
      "Switzerland               28397.715120    30281.704590    31871.530300   \n",
      "Turkey                     4241.356344     5089.043686     5678.348271   \n",
      "United Kingdom            18232.424520    21664.787670    22705.092540   \n",
      "\n",
      "                        gdpPercap_1997  gdpPercap_2002  gdpPercap_2007  \n",
      "country                                                                 \n",
      "Albania                    3193.054604     4604.211737     5937.029526  \n",
      "Austria                   29095.920660    32417.607690    36126.492700  \n",
      "Belgium                   27561.196630    30485.883750    33692.605080  \n",
      "Bosnia and Herzegovina     4766.355904     6018.975239     7446.298803  \n",
      "Bulgaria                   5970.388760     7696.777725    10680.792820  \n",
      "Croatia                    9875.604515    11628.388950    14619.222720  \n",
      "Czech Republic            16048.514240    17596.210220    22833.308510  \n",
      "Denmark                   29804.345670    32166.500060    35278.418740  \n",
      "Finland                   23723.950200    28204.590570    33207.084400  \n",
      "France                    25889.784870    28926.032340    30470.016700  \n",
      "Germany                   27788.884160    30035.801980    32170.374420  \n",
      "Greece                    18747.698140    22514.254800    27538.411880  \n",
      "Hungary                   11712.776800    14843.935560    18008.944440  \n",
      "Iceland                   28061.099660    31163.201960    36180.789190  \n",
      "Ireland                   24521.947130    34077.049390    40675.996350  \n",
      "Italy                     24675.024460    27968.098170    28569.719700  \n",
      "Montenegro                 6465.613349     6557.194282     9253.896111  \n",
      "Netherlands               30246.130630    33724.757780    36797.933320  \n",
      "Norway                    41283.164330    44683.975250    49357.190170  \n",
      "Poland                    10159.583680    12002.239080    15389.924680  \n",
      "Portugal                  17641.031560    19970.907870    20509.647770  \n",
      "Romania                    7346.547557     7885.360081    10808.475610  \n",
      "Serbia                     7914.320304     7236.075251     9786.534714  \n",
      "Slovak Republic           12126.230650    13638.778370    18678.314350  \n",
      "Slovenia                  17161.107350    20660.019360    25768.257590  \n",
      "Spain                     20445.298960    24835.471660    28821.063700  \n",
      "Sweden                    25266.594990    29341.630930    33859.748350  \n",
      "Switzerland               32135.323010    34480.957710    37506.419070  \n",
      "Turkey                     6601.429915     6508.085718     8458.276384  \n",
      "United Kingdom            26074.531360    29478.999190    33203.261280  \n"
     ]
    }
   ],
   "source": [
    "data3 = pd.read_csv('gapminder_gdp_europe.csv', index_col = 'country')\n",
    "data3 = pd.DataFrame(data3)\n",
    "print(data3)"
   ]
  },
  {
   "cell_type": "code",
   "execution_count": 63,
   "id": "720bc061-88eb-4bf2-a376-abee88459b0c",
   "metadata": {},
   "outputs": [
    {
     "name": "stdout",
     "output_type": "stream",
     "text": [
      "1601.056136\n"
     ]
    }
   ],
   "source": [
    "print(data3.iloc[0,0])"
   ]
  },
  {
   "cell_type": "code",
   "execution_count": 64,
   "id": "cc1c0835-6c3a-4a2b-baf8-e1fe18bb8287",
   "metadata": {},
   "outputs": [
    {
     "name": "stdout",
     "output_type": "stream",
     "text": [
      "1601.056136\n"
     ]
    }
   ],
   "source": [
    "print(data3.loc['Albania', 'gdpPercap_1952'])"
   ]
  },
  {
   "cell_type": "code",
   "execution_count": 65,
   "id": "27f1c339-9532-4aa2-8a39-c596866779d8",
   "metadata": {},
   "outputs": [
    {
     "name": "stdout",
     "output_type": "stream",
     "text": [
      "gdpPercap_1952    1601.056136\n",
      "gdpPercap_1957    1942.284244\n",
      "gdpPercap_1962    2312.888958\n",
      "gdpPercap_1967    2760.196931\n",
      "gdpPercap_1972    3313.422188\n",
      "gdpPercap_1977    3533.003910\n",
      "gdpPercap_1982    3630.880722\n",
      "gdpPercap_1987    3738.932735\n",
      "gdpPercap_1992    2497.437901\n",
      "gdpPercap_1997    3193.054604\n",
      "gdpPercap_2002    4604.211737\n",
      "gdpPercap_2007    5937.029526\n",
      "Name: Albania, dtype: float64\n"
     ]
    }
   ],
   "source": [
    "print(data3.loc['Albania', :])"
   ]
  },
  {
   "cell_type": "code",
   "execution_count": 66,
   "id": "d5c88a62-b60c-4d7c-9218-38d5da58cb92",
   "metadata": {},
   "outputs": [
    {
     "name": "stdout",
     "output_type": "stream",
     "text": [
      "country\n",
      "Albania                    1601.056136\n",
      "Austria                    6137.076492\n",
      "Belgium                    8343.105127\n",
      "Bosnia and Herzegovina      973.533195\n",
      "Bulgaria                   2444.286648\n",
      "Croatia                    3119.236520\n",
      "Czech Republic             6876.140250\n",
      "Denmark                    9692.385245\n",
      "Finland                    6424.519071\n",
      "France                     7029.809327\n",
      "Germany                    7144.114393\n",
      "Greece                     3530.690067\n",
      "Hungary                    5263.673816\n",
      "Iceland                    7267.688428\n",
      "Ireland                    5210.280328\n",
      "Italy                      4931.404155\n",
      "Montenegro                 2647.585601\n",
      "Netherlands                8941.571858\n",
      "Norway                    10095.421720\n",
      "Poland                     4029.329699\n",
      "Portugal                   3068.319867\n",
      "Romania                    3144.613186\n",
      "Serbia                     3581.459448\n",
      "Slovak Republic            5074.659104\n",
      "Slovenia                   4215.041741\n",
      "Spain                      3834.034742\n",
      "Sweden                     8527.844662\n",
      "Switzerland               14734.232750\n",
      "Turkey                     1969.100980\n",
      "United Kingdom             9979.508487\n",
      "Name: gdpPercap_1952, dtype: float64\n"
     ]
    }
   ],
   "source": [
    "print(data3.loc[:, 'gdpPercap_1952'])"
   ]
  },
  {
   "cell_type": "code",
   "execution_count": 67,
   "id": "0e2ad3a2-c0da-46e7-9882-29b7bdfc2df4",
   "metadata": {},
   "outputs": [
    {
     "name": "stdout",
     "output_type": "stream",
     "text": [
      "         gdpPercap_1952  gdpPercap_1957\n",
      "country                                \n",
      "Albania     1601.056136     1942.284244\n",
      "Austria     6137.076492     8842.598030\n",
      "Belgium     8343.105127     9714.960623\n"
     ]
    }
   ],
   "source": [
    "print(data3.loc['Albania':'Belgium', 'gdpPercap_1952':'gdpPercap_1957'])"
   ]
  },
  {
   "cell_type": "code",
   "execution_count": 70,
   "id": "a68b2aa1-2160-49f4-82f3-41ee901f84ec",
   "metadata": {},
   "outputs": [
    {
     "name": "stdout",
     "output_type": "stream",
     "text": [
      "Subset of Data:\n",
      "          gdpPercap_1952  gdpPercap_1957\n",
      "country                                \n",
      "Albania     1601.056136     1942.284244\n",
      "Austria     6137.076492     8842.598030\n",
      "Belgium     8343.105127     9714.960623\n"
     ]
    }
   ],
   "source": [
    "subset1 = data3.loc['Albania':'Belgium', 'gdpPercap_1952':'gdpPercap_1957']\n",
    "print('Subset of Data:\\n', subset1)"
   ]
  },
  {
   "cell_type": "code",
   "execution_count": 72,
   "id": "455a3459-197c-43ac-8754-ccd1c2f65a05",
   "metadata": {},
   "outputs": [
    {
     "name": "stdout",
     "output_type": "stream",
     "text": [
      "\n",
      "Which values are greater than 2000?\n",
      "          gdpPercap_1952  gdpPercap_1957\n",
      "country                                \n",
      "Albania           False           False\n",
      "Austria            True            True\n",
      "Belgium            True            True\n"
     ]
    }
   ],
   "source": [
    "print('\\nWhich values are greater than 2000?\\n', subset1 > 2000)"
   ]
  },
  {
   "cell_type": "code",
   "execution_count": 73,
   "id": "26584dc0-ab5d-41ea-9e8c-efbb0b70e851",
   "metadata": {},
   "outputs": [],
   "source": [
    "# Booleans are datatypes whose outputs are true or false"
   ]
  },
  {
   "cell_type": "markdown",
   "id": "172679b6-0d5d-4e45-aadf-082bdce17776",
   "metadata": {},
   "source": [
    "## Plotting"
   ]
  },
  {
   "cell_type": "code",
   "execution_count": 74,
   "id": "8571497e-fe66-4b2e-b313-db345311002d",
   "metadata": {},
   "outputs": [
    {
     "data": {
      "text/plain": [
       "Text(0, 0.5, 'Position (km)')"
      ]
     },
     "execution_count": 74,
     "metadata": {},
     "output_type": "execute_result"
    },
    {
     "data": {
      "image/png": "[encoded data removed]",
      "text/plain": [
       "<Figure size 432x288 with 1 Axes>"
      ]
     },
     "metadata": {
      "needs_background": "light"
     },
     "output_type": "display_data"
    }
   ],
   "source": [
    "import matplotlib.pyplot as plt\n",
    "\n",
    "Time = [0,1,2,3]\n",
    "Position = [0,10,20,30]\n",
    "\n",
    "plt.plot(Time, Position) #(x,y)\n",
    "\n",
    "plt.xlabel('Time (hr)')\n",
    "plt.ylabel('Position (km)')"
   ]
  },
  {
   "cell_type": "code",
   "execution_count": 76,
   "id": "74f7c703-9880-4bf7-8fbf-2570336d2a2e",
   "metadata": {},
   "outputs": [
    {
     "data": {
      "text/plain": [
       "<AxesSubplot:>"
      ]
     },
     "execution_count": 76,
     "metadata": {},
     "output_type": "execute_result"
    },
    {
     "data": {
      "image/png": "[encoded data removed]",
      "text/plain": [
       "<Figure size 432x288 with 1 Axes>"
      ]
     },
     "metadata": {
      "needs_background": "light"
     },
     "output_type": "display_data"
    }
   ],
   "source": [
    "data4 = pd.read_csv('gapminder_gdp_oceania.csv', index_col = 'country')\n",
    "years = data4.columns.str.strip('gdpPercap_')\n",
    "data4.columns = years.astype(int)\n",
    "data4.loc['Australia'].plot()"
   ]
  },
  {
   "cell_type": "markdown",
   "id": "a774fa35-35a0-4057-85be-2d7a703fed05",
   "metadata": {},
   "source": [
    "## For Loops"
   ]
  },
  {
   "cell_type": "code",
   "execution_count": 77,
   "id": "931fed99-788e-417e-883f-297efd294089",
   "metadata": {},
   "outputs": [
    {
     "name": "stdout",
     "output_type": "stream",
     "text": [
      "1\n",
      "2\n",
      "3\n"
     ]
    }
   ],
   "source": [
    "print(1)\n",
    "print(2)\n",
    "print(3)"
   ]
  },
  {
   "cell_type": "code",
   "execution_count": 78,
   "id": "0ad2781b-3d9b-4f4f-b321-a30be873baae",
   "metadata": {},
   "outputs": [
    {
     "name": "stdout",
     "output_type": "stream",
     "text": [
      "1\n",
      "2\n",
      "3\n"
     ]
    }
   ],
   "source": [
    "for number in [1,2,3]:\n",
    "    print(number)"
   ]
  },
  {
   "cell_type": "code",
   "execution_count": 79,
   "id": "a086b4a8-a121-48f6-bf3f-88b6ec51121f",
   "metadata": {},
   "outputs": [
    {
     "name": "stdout",
     "output_type": "stream",
     "text": [
      "1\n",
      "2\n",
      "3\n"
     ]
    }
   ],
   "source": [
    "for pizzaslices in [1,2,3]:\n",
    "    print(pizzaslices)"
   ]
  },
  {
   "cell_type": "code",
   "execution_count": 82,
   "id": "8bf4cbe3-9dbf-400c-a6d9-11e3d40f6a45",
   "metadata": {},
   "outputs": [
    {
     "name": "stdout",
     "output_type": "stream",
     "text": [
      "1 9 27\n",
      "2 9 27\n",
      "3 9 27\n"
     ]
    }
   ],
   "source": [
    "list1 = [1,2,3]\n",
    "\n",
    "for number in list1:\n",
    "    squared = l**2\n",
    "    cubed = l**3\n",
    "    print(number, squared, cubed)"
   ]
  },
  {
   "cell_type": "code",
   "execution_count": 83,
   "id": "9e5762ea-7b63-4c08-9043-d248a9cd5c56",
   "metadata": {},
   "outputs": [
    {
     "name": "stdout",
     "output_type": "stream",
     "text": [
      "0\n",
      "1\n",
      "2\n"
     ]
    }
   ],
   "source": [
    "for number in range(0,3):\n",
    "    print(number)"
   ]
  },
  {
   "cell_type": "code",
   "execution_count": 85,
   "id": "747df9fb-880d-48b1-a5fa-042f3d356a71",
   "metadata": {},
   "outputs": [
    {
     "name": "stdout",
     "output_type": "stream",
     "text": [
      "0\n",
      "1\n",
      "2\n"
     ]
    }
   ],
   "source": [
    "for number in range(3):\n",
    "    print(number)"
   ]
  },
  {
   "cell_type": "markdown",
   "id": "3bf5c963-ff03-46da-b8b2-cbeeebca3d40",
   "metadata": {},
   "source": [
    "## Conditionals"
   ]
  },
  {
   "cell_type": "code",
   "execution_count": 86,
   "id": "0648a7a6-8831-4ebe-af58-b69f6806df0a",
   "metadata": {},
   "outputs": [
    {
     "name": "stdout",
     "output_type": "stream",
     "text": [
      "4 is large\n"
     ]
    }
   ],
   "source": [
    "mass = 4\n",
    "\n",
    "if mass > 3.0:\n",
    "    print(mass, 'is large')"
   ]
  },
  {
   "cell_type": "code",
   "execution_count": 87,
   "id": "e09e02d4-5d08-4c67-b713-e3ff995acf63",
   "metadata": {},
   "outputs": [],
   "source": [
    "if mass < 3.0:\n",
    "    print(mass, 'is small')"
   ]
  },
  {
   "cell_type": "code",
   "execution_count": 88,
   "id": "3cdb20a6-a4bb-4b00-8426-beada686f2b9",
   "metadata": {},
   "outputs": [],
   "source": [
    "# This didn't print because it's false"
   ]
  },
  {
   "cell_type": "code",
   "execution_count": 91,
   "id": "0e56044f-e81c-4bae-8b64-16db5b1c0528",
   "metadata": {},
   "outputs": [
    {
     "name": "stdout",
     "output_type": "stream",
     "text": [
      "3 is large\n",
      "4 is large\n",
      "5 is large\n"
     ]
    }
   ],
   "source": [
    "masses = [1,2,3,4,5]\n",
    "\n",
    "for m in masses:\n",
    "    if m > 2.5:\n",
    "        print(m, 'is large')"
   ]
  },
  {
   "cell_type": "code",
   "execution_count": 92,
   "id": "4749a43a-2ba1-44fb-b529-6aa0b69e8bf5",
   "metadata": {},
   "outputs": [
    {
     "name": "stdout",
     "output_type": "stream",
     "text": [
      "1 is small\n",
      "2 is small\n",
      "3 is large\n",
      "4 is large\n",
      "5 is large\n"
     ]
    }
   ],
   "source": [
    "for m in masses:\n",
    "    if m > 2.5:\n",
    "        print(m, 'is large')\n",
    "    else:\n",
    "        print(m, 'is small')"
   ]
  },
  {
   "cell_type": "code",
   "execution_count": 93,
   "id": "4e2a04ab-1b48-4854-b251-b401b1d856cb",
   "metadata": {},
   "outputs": [
    {
     "name": "stdout",
     "output_type": "stream",
     "text": [
      "1 is small\n",
      "2 is small\n",
      "3 is large\n",
      "4 is huge\n",
      "5 is huge\n"
     ]
    }
   ],
   "source": [
    "for m in masses:\n",
    "    if m > 3.5:\n",
    "        print(m, 'is huge')\n",
    "    elif m > 2.5:\n",
    "        print(m, 'is large')\n",
    "    else:\n",
    "        print(m, 'is small')"
   ]
  },
  {
   "cell_type": "code",
   "execution_count": 94,
   "id": "cb95aa6b-08a6-4db3-ae34-f0d4d5e09f9e",
   "metadata": {},
   "outputs": [
    {
     "name": "stdout",
     "output_type": "stream",
     "text": [
      "Grade is C\n"
     ]
    }
   ],
   "source": [
    "grade = 85\n",
    "\n",
    "if grade >= 70:\n",
    "    print('Grade is C')\n",
    "elif grade >= 80:\n",
    "    print('Grade is B')\n",
    "elif grade >= 90:\n",
    "    print('Grade is A')"
   ]
  },
  {
   "cell_type": "code",
   "execution_count": 95,
   "id": "19ad3b6b-96eb-484c-8bc1-d630b71276ff",
   "metadata": {},
   "outputs": [],
   "source": [
    "# A series of conditional statements is like a filter - items get 'caught' and don't 'fall' to the next level"
   ]
  },
  {
   "cell_type": "code",
   "execution_count": 98,
   "id": "2febd970-9953-445f-a044-87e9a51cd021",
   "metadata": {},
   "outputs": [
    {
     "name": "stdout",
     "output_type": "stream",
     "text": [
      "0 : 10\n",
      "Moving too slow\n",
      "1 : 20\n",
      "Moving too slow\n",
      "2 : 30\n",
      "Moving too fast\n",
      "3 : 25\n",
      "Moving too fast\n",
      "4 : 20\n",
      "Moving too slow\n",
      "Final Velocity: 30\n"
     ]
    }
   ],
   "source": [
    "velocity = 10\n",
    "\n",
    "for i in range(5):\n",
    "    print(i, ':', velocity)\n",
    "    if velocity > 20:\n",
    "        print('Moving too fast')\n",
    "        velocity = velocity - 5\n",
    "    else:\n",
    "        print('Moving too slow')\n",
    "        velocity = velocity + 10\n",
    "        \n",
    "print('Final Velocity:', velocity)"
   ]
  },
  {
   "cell_type": "markdown",
   "id": "2e680766-d7e9-44fb-a20e-1f3910d545ff",
   "metadata": {},
   "source": [
    "## Lists"
   ]
  },
  {
   "cell_type": "code",
   "execution_count": 99,
   "id": "1aeaf7ef-576c-46c7-8237-19811b8a6b62",
   "metadata": {},
   "outputs": [
    {
     "name": "stdout",
     "output_type": "stream",
     "text": [
      "Pressures: [1, 2, 3, 4, 5]\n",
      "Length: 5\n"
     ]
    }
   ],
   "source": [
    "pressures = [1,2,3,4,5]\n",
    "\n",
    "print('Pressures:', pressures)\n",
    "print('Length:', len(pressures))"
   ]
  },
  {
   "cell_type": "code",
   "execution_count": 100,
   "id": "b5d15f3e-7ff7-4f71-9f10-d2b74d778c21",
   "metadata": {},
   "outputs": [
    {
     "name": "stdout",
     "output_type": "stream",
     "text": [
      "Oth item: 1\n",
      "3rd item: 4\n"
     ]
    }
   ],
   "source": [
    "print('Oth item:', pressures[0])\n",
    "print('3rd item:', pressures[3])"
   ]
  },
  {
   "cell_type": "code",
   "execution_count": 101,
   "id": "71c89733-64a2-4d7b-893f-87f062ab9bc4",
   "metadata": {},
   "outputs": [],
   "source": [
    "pressures[0] = 11\n",
    "pressures[3] = 14"
   ]
  },
  {
   "cell_type": "code",
   "execution_count": 102,
   "id": "b4948f8e-0d30-49e0-8d29-ed1ff00e7b15",
   "metadata": {},
   "outputs": [
    {
     "name": "stdout",
     "output_type": "stream",
     "text": [
      "New Oth item: 11\n",
      "New 3rd item: 14\n"
     ]
    }
   ],
   "source": [
    "print('New Oth item:', pressures[0])\n",
    "print('New 3rd item:', pressures[3])"
   ]
  },
  {
   "cell_type": "code",
   "execution_count": 103,
   "id": "22fb9fd3-7f90-46d8-8db8-523272130a6d",
   "metadata": {},
   "outputs": [
    {
     "name": "stdout",
     "output_type": "stream",
     "text": [
      "[11, 2, 3, 14, 5]\n"
     ]
    }
   ],
   "source": [
    "print(pressures)"
   ]
  },
  {
   "cell_type": "code",
   "execution_count": 104,
   "id": "3c42429e-387f-4b28-af3a-d659f59885fb",
   "metadata": {},
   "outputs": [],
   "source": [
    "pressures.append(6)"
   ]
  },
  {
   "cell_type": "code",
   "execution_count": 105,
   "id": "bb589995-b7e9-4dbc-8adf-6ca0450e02b2",
   "metadata": {},
   "outputs": [
    {
     "name": "stdout",
     "output_type": "stream",
     "text": [
      "[11, 2, 3, 14, 5, 6]\n"
     ]
    }
   ],
   "source": [
    "print(pressures)"
   ]
  },
  {
   "cell_type": "markdown",
   "id": "ecd70269-7665-4c86-9d4b-c128b258638c",
   "metadata": {},
   "source": [
    "## Looping Over Datasets"
   ]
  },
  {
   "cell_type": "code",
   "execution_count": 107,
   "id": "d5771417-ddea-442c-bc91-1428baac8718",
   "metadata": {},
   "outputs": [
    {
     "name": "stdout",
     "output_type": "stream",
     "text": [
      "gapminder_gdp_africa.csv gdpPercap_1952     4725.295531\n",
      "gdpPercap_1957     5487.104219\n",
      "gdpPercap_1962     6757.030816\n",
      "gdpPercap_1967    18772.751690\n",
      "gdpPercap_1972    21011.497210\n",
      "gdpPercap_1977    21951.211760\n",
      "gdpPercap_1982    17364.275380\n",
      "gdpPercap_1987    11864.408440\n",
      "gdpPercap_1992    13522.157520\n",
      "gdpPercap_1997    14722.841880\n",
      "gdpPercap_2002    12521.713920\n",
      "gdpPercap_2007    13206.484520\n",
      "dtype: float64\n",
      "gapminder_gdp_asia.csv gdpPercap_1952    108382.35290\n",
      "gdpPercap_1957    113523.13290\n",
      "gdpPercap_1962     95458.11176\n",
      "gdpPercap_1967     80894.88326\n",
      "gdpPercap_1972    109347.86700\n",
      "gdpPercap_1977     59265.47714\n",
      "gdpPercap_1982     33693.17525\n",
      "gdpPercap_1987     28118.42998\n",
      "gdpPercap_1992     34932.91959\n",
      "gdpPercap_1997     40300.61996\n",
      "gdpPercap_2002     36023.10540\n",
      "gdpPercap_2007     47306.98978\n",
      "dtype: float64\n"
     ]
    }
   ],
   "source": [
    "import pandas as pd\n",
    "\n",
    "for filename in ['gapminder_gdp_africa.csv', 'gapminder_gdp_asia.csv']:\n",
    "    data5 = pd.read_csv(filename, index_col = 'country')\n",
    "    print(filename, data5.max())"
   ]
  },
  {
   "cell_type": "markdown",
   "id": "ce97eed3-33dd-43a9-a553-d5908aced673",
   "metadata": {},
   "source": [
    "## glob.glob or Globbing"
   ]
  },
  {
   "cell_type": "code",
   "execution_count": 110,
   "id": "e2ccb736-44e1-490e-a6a4-61907d55e7f6",
   "metadata": {},
   "outputs": [
    {
     "name": "stdout",
     "output_type": "stream",
     "text": [
      "All gapminder csv files: ['gapminder_gdp_americas.csv', 'gapminder_gdp_europe.csv', 'gapminder_all.csv', 'gapminder_gdp_oceania.csv', 'gapminder_gdp_africa.csv', 'gapminder_gdp_asia.csv']\n"
     ]
    }
   ],
   "source": [
    "import glob\n",
    "\n",
    "print('All gapminder csv files:', glob.glob('gapminder*.csv'))"
   ]
  },
  {
   "cell_type": "code",
   "execution_count": 111,
   "id": "68ff6a4f-7631-47ce-b5b3-c334313d9dee",
   "metadata": {},
   "outputs": [
    {
     "name": "stdout",
     "output_type": "stream",
     "text": [
      "gapminder_gdp_americas.csv 1397.717137\n",
      "gapminder_gdp_europe.csv 973.5331948\n",
      "gapminder_all.csv 298.8462121\n",
      "gapminder_gdp_oceania.csv 10039.59564\n",
      "gapminder_gdp_africa.csv 298.8462121\n",
      "gapminder_gdp_asia.csv 331.0\n"
     ]
    }
   ],
   "source": [
    "for filename in glob.glob('gapminder*.csv'):\n",
    "    data6 = pd.read_csv(filename)\n",
    "    print(filename, data6['gdpPercap_1952'].min())"
   ]
  },
  {
   "cell_type": "markdown",
   "id": "c77b1c44-7831-4659-ad58-93109ba89ceb",
   "metadata": {},
   "source": [
    "## Writing Functions"
   ]
  },
  {
   "cell_type": "code",
   "execution_count": 112,
   "id": "d0e05adc-0154-468f-8cb2-87925759ce94",
   "metadata": {},
   "outputs": [
    {
     "name": "stdout",
     "output_type": "stream",
     "text": [
      "Hello!\n"
     ]
    }
   ],
   "source": [
    "def say_hello():\n",
    "    print('Hello!')\n",
    "\n",
    "say_hello()"
   ]
  },
  {
   "cell_type": "code",
   "execution_count": 114,
   "id": "dbcc79e0-07ce-42a4-bbba-8f4a053e9958",
   "metadata": {},
   "outputs": [
    {
     "name": "stdout",
     "output_type": "stream",
     "text": [
      "Hi!\n",
      "My name is John Doe.\n",
      "What is your name?\n"
     ]
    }
   ],
   "source": [
    "def second_function():\n",
    "    print('Hi!')\n",
    "    print('My name is John Doe.')\n",
    "    print('What is your name?')\n",
    "\n",
    "second_function()"
   ]
  },
  {
   "cell_type": "code",
   "execution_count": 115,
   "id": "1378f9e8-566e-4a8e-8b75-e08d91b40dbb",
   "metadata": {},
   "outputs": [
    {
     "name": "stdout",
     "output_type": "stream",
     "text": [
      "7/4/1776\n"
     ]
    }
   ],
   "source": [
    "def print_date(month, day, year):\n",
    "    joined = str(month) + '/' + str(day) + '/' + str(year)\n",
    "    print(joined)\n",
    "    \n",
    "print_date(7,4,1776)"
   ]
  },
  {
   "cell_type": "code",
   "execution_count": 116,
   "id": "66fdc8eb-416b-4f2c-a931-ead5ea581853",
   "metadata": {},
   "outputs": [
    {
     "name": "stdout",
     "output_type": "stream",
     "text": [
      "7/4/1776\n"
     ]
    }
   ],
   "source": [
    "print_date(year = 1776, month = 7, day = 4)"
   ]
  },
  {
   "cell_type": "code",
   "execution_count": 119,
   "id": "dff1add1-c7b2-48e9-9d14-4013a8abc0cd",
   "metadata": {},
   "outputs": [
    {
     "name": "stdout",
     "output_type": "stream",
     "text": [
      "3.0\n"
     ]
    }
   ],
   "source": [
    "def average_function(values):\n",
    "    if len(values) == 0:\n",
    "        return None\n",
    "    return sum(values) / len(values)\n",
    "\n",
    "avg = average_function([1,2,3,4,5])\n",
    "\n",
    "print(avg)"
   ]
  },
  {
   "cell_type": "code",
   "execution_count": 120,
   "id": "0ceadae9-ca3d-4041-ad75-3827981d3557",
   "metadata": {},
   "outputs": [
    {
     "name": "stdout",
     "output_type": "stream",
     "text": [
      "None\n"
     ]
    }
   ],
   "source": [
    "emptyavg = average_function([])\n",
    "print(emptyavg)"
   ]
  },
  {
   "cell_type": "code",
   "execution_count": 121,
   "id": "4f8a62c4-ff06-4057-8029-dd2d0fe69dfe",
   "metadata": {},
   "outputs": [
    {
     "name": "stdout",
     "output_type": "stream",
     "text": [
      "7/4/1776\n",
      "7/4/1776\n",
      "None\n"
     ]
    }
   ],
   "source": [
    "def print_date2(month, day, year):\n",
    "    joined = str(month) + '/' + str(day) + '/' + str(year)\n",
    "    print(joined)\n",
    "    \n",
    "print_date2(7,4,1776)\n",
    "\n",
    "date = print_date2(7,4,1776)\n",
    "print(date)"
   ]
  },
  {
   "cell_type": "code",
   "execution_count": 123,
   "id": "8e3a216e-b9ce-48d5-bd97-281bb085a121",
   "metadata": {},
   "outputs": [
    {
     "name": "stdout",
     "output_type": "stream",
     "text": [
      "11:59:59\n",
      "11:59:59\n"
     ]
    }
   ],
   "source": [
    "def print_time(hour, minute, second):\n",
    "    time = str(hour) + ':' + str(minute) + ':' + str(second)\n",
    "    print(time)\n",
    "    return time\n",
    "\n",
    "result = print_time(11, 59, 59)\n",
    "print(result)"
   ]
  },
  {
   "cell_type": "markdown",
   "id": "4a6c4ff3-3138-4fd9-a372-7f22a14713b5",
   "metadata": {},
   "source": [
    "# That's All For Now!"
   ]
  }
 ],
 "metadata": {
  "kernelspec": {
   "display_name": "Python 3 (ipykernel)",
   "language": "python",
   "name": "python3"
  },
  "language_info": {
   "codemirror_mode": {
    "name": "ipython",
    "version": 3
   },
   "file_extension": ".py",
   "mimetype": "text/x-python",
   "name": "python",
   "nbconvert_exporter": "python",
   "pygments_lexer": "ipython3",
   "version": "3.9.7"
  }
 },
 "nbformat": 4,
 "nbformat_minor": 5
}
